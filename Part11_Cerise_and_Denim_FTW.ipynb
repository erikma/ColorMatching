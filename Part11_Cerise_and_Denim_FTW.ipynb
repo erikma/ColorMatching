{
 "cells": [
  {
   "cell_type": "markdown",
   "metadata": {},
   "source": [
    "# Part 11: Cerise and Denim FTW\n",
    "We've now got just a bit of an idea about our perceptrons and how they are connected together. And if you think about it, 48 colors times 4 perceptrons in the middle layer, being 192 perceptrons, is not even close to the neurons a jellyfish has, not to mention a mouse or an elephant.\n",
    "\n",
    "Oh well, let's see where we can get to next. Let's graduate from toddler to a 5-year-old level: Lots more colors to learn. We'll keep all the extra code from lesson 9, perturbing the data just as much as before, using 4 perceptrons per color label, splitting into training and test data. And we'll increase the batch size since we're about to drive up the number of examples into the hundreds of thousands."
   ]
  },
  {
   "cell_type": "code",
   "execution_count": 1,
   "metadata": {},
   "outputs": [
    {
     "name": "stderr",
     "output_type": "stream",
     "text": [
      "Using TensorFlow backend.\n"
     ]
    }
   ],
   "source": [
    "from keras.layers import Activation, Dense, Dropout\n",
    "from keras.models import Sequential\n",
    "import keras.optimizers, keras.utils, numpy\n",
    "from sklearn.model_selection import train_test_split\n",
    "from sklearn.preprocessing import LabelBinarizer\n",
    "\n",
    "def train(rgbValues, colorNames, epochs = 3, perceptronsPerColorName = 4, batchSize = 16):\n",
    "    \"\"\"\n",
    "    Trains a neural network to understand how to map color names to RGB triples.\n",
    "    The provided lists of RGB triples must be floating point triples with each\n",
    "    value in the range [0.0, 1.0], and the number of color names must be the same length.\n",
    "    Different names are allowed to map to the same RGB triple.\n",
    "    Returns a trained model that can be used for recognize().\n",
    "    \"\"\"\n",
    "\n",
    "    # Convert the Python map RGB values into a numpy array needed for training.\n",
    "    rgbNumpyArray = numpy.array(rgbValues, numpy.float64)\n",
    "    \n",
    "    # Convert the color labels into a one-hot feature array.\n",
    "    # Text labels for each array position are in the classes_ list on the binarizer.\n",
    "    labelBinarizer = LabelBinarizer()\n",
    "    oneHotLabels = labelBinarizer.fit_transform(colorNames)\n",
    "    numColors = len(labelBinarizer.classes_)\n",
    "    colorLabels = labelBinarizer.classes_\n",
    "    \n",
    "    # Partition the data into training and testing splits using 80% of\n",
    "    # the data for training and the remaining 20% for testing.\n",
    "    (trainingColors, testColors, trainingOneHotLabels, testOneHotLabels) = train_test_split(\n",
    "        rgbNumpyArray, oneHotLabels, test_size=0.2)\n",
    "\n",
    "    # Hyperparameters to define the network shape.\n",
    "    numFullyConnectedPerceptrons = numColors * perceptronsPerColorName\n",
    "    \n",
    "    model = Sequential([\n",
    "        # Layer 1: Fully connected layer with ReLU activation.\n",
    "        Dense(numFullyConnectedPerceptrons, activation='relu', kernel_initializer='TruncatedNormal', input_shape=(3,)),\n",
    "\n",
    "        # Outputs: SoftMax activation to get probabilities by color.\n",
    "        Dense(numColors, activation='softmax')\n",
    "    ])\n",
    "\n",
    "    print(model.summary())\n",
    "\n",
    "    # Compile for categorization.\n",
    "    model.compile(\n",
    "        optimizer = keras.optimizers.SGD(lr = 0.01, momentum = 0.9, decay = 1e-6, nesterov = True),\n",
    "        loss = 'categorical_crossentropy',\n",
    "        metrics = [ 'accuracy' ])\n",
    "\n",
    "    history = model.fit(trainingColors, trainingOneHotLabels, epochs=epochs, batch_size=batchSize)\n",
    "\n",
    "    print(\"\")\n",
    "    print(\"Scoring result against test data after training with training data:\")\n",
    "    score = model.evaluate(testColors, testOneHotLabels, batch_size=batchSize)\n",
    "    \n",
    "    print(\"\")\n",
    "    print(\"Score: loss=%1.4f, accuracy=%1.4f\" % (score[0], score[1]))\n",
    "    return (model, colorLabels)\n",
    "\n",
    "def createMoreTrainingData(colorNameToRGBMap):\n",
    "    # The incoming color map is not typically going to be oversubscribed with e.g.\n",
    "    # extra 'red' samples pointing to slightly different colors. We generate a\n",
    "    # training dataset by perturbing each color by a small amount positive and\n",
    "    # negative. We do this for each color individually, by pairs, and for all three\n",
    "    # at once, for each positive and negative value, resulting in dataset that is\n",
    "    # many times as large.\n",
    "    perturbValues = [ 0.0, 0.005, 0.01, 0.015, 0.02, 0.025, 0.03 ]\n",
    "    rgbValues = []\n",
    "    labels = []\n",
    "    for colorName, rgb in colorNameToRGBMap.items():\n",
    "        reds = []\n",
    "        greens = []\n",
    "        blues = []\n",
    "        for perturb in perturbValues:\n",
    "            if rgb[0] + perturb <= 1.0:\n",
    "                reds.append(rgb[0] + perturb)\n",
    "            if perturb != 0.0 and rgb[0] - perturb >= 0.0:\n",
    "                reds.append(rgb[0] - perturb)\n",
    "            if rgb[1] + perturb <= 1.0:\n",
    "                greens.append(rgb[1] + perturb)\n",
    "            if perturb != 0.0 and rgb[1] - perturb >= 0.0:\n",
    "                greens.append(rgb[1] - perturb)\n",
    "            if rgb[2] + perturb <= 1.0:\n",
    "                blues.append(rgb[2] + perturb)\n",
    "            if perturb != 0.0 and rgb[2] - perturb >= 0.0:\n",
    "                blues.append(rgb[2] - perturb)\n",
    "        for red in reds:\n",
    "            for green in greens:\n",
    "                for blue in blues:\n",
    "                    rgbValues.append((red, green, blue))\n",
    "                    labels.append(colorName)\n",
    "    return (rgbValues, labels)"
   ]
  },
  {
   "cell_type": "markdown",
   "metadata": {},
   "source": [
    "And now our expanded list of 96 colors from [Jenny's page](http://www.jennyscrayoncollection.com/2017/10/complete-list-of-current-crayola-crayon.html), and let's go!"
   ]
  },
  {
   "cell_type": "code",
   "execution_count": 2,
   "metadata": {},
   "outputs": [
    {
     "name": "stdout",
     "output_type": "stream",
     "text": [
      "WARNING:tensorflow:From c:\\users\\erik\\appdata\\local\\programs\\python\\python36\\lib\\site-packages\\tensorflow\\python\\framework\\op_def_library.py:263: colocate_with (from tensorflow.python.framework.ops) is deprecated and will be removed in a future version.\n",
      "Instructions for updating:\n",
      "Colocations handled automatically by placer.\n",
      "_________________________________________________________________\n",
      "Layer (type)                 Output Shape              Param #   \n",
      "=================================================================\n",
      "dense_1 (Dense)              (None, 384)               1536      \n",
      "_________________________________________________________________\n",
      "dense_2 (Dense)              (None, 96)                36960     \n",
      "=================================================================\n",
      "Total params: 38,496\n",
      "Trainable params: 38,496\n",
      "Non-trainable params: 0\n",
      "_________________________________________________________________\n",
      "None\n",
      "WARNING:tensorflow:From c:\\users\\erik\\appdata\\local\\programs\\python\\python36\\lib\\site-packages\\tensorflow\\python\\ops\\math_ops.py:3066: to_int32 (from tensorflow.python.ops.math_ops) is deprecated and will be removed in a future version.\n",
      "Instructions for updating:\n",
      "Use tf.cast instead.\n",
      "Epoch 1/3\n",
      "143072/143072 [==============================] - 19s 129us/step - loss: 1.7882 - acc: 0.5574\n",
      "Epoch 2/3\n",
      "143072/143072 [==============================] - 18s 122us/step - loss: 0.5246 - acc: 0.8573\n",
      "Epoch 3/3\n",
      "143072/143072 [==============================] - 17s 121us/step - loss: 0.3532 - acc: 0.8973\n",
      "\n",
      "Scoring result against test data after training with training data:\n",
      "35769/35769 [==============================] - 2s 57us/step\n",
      "\n",
      "Score: loss=0.2994, accuracy=0.9117\n"
     ]
    }
   ],
   "source": [
    "def rgbToFloat(r, g, b):  # r, g, b in 0-255 range\n",
    "    return (float(r) / 255.0, float(g) / 255.0, float(b) / 255.0)\n",
    "\n",
    "# http://www.jennyscrayoncollection.com/2017/10/complete-list-of-current-crayola-crayon.html\n",
    "colorMap = {\n",
    "    # 8-crayon box colors\n",
    "    'red': rgbToFloat(238, 32, 77),\n",
    "    'yellow': rgbToFloat(252, 232, 131),\n",
    "    'blue': rgbToFloat(31, 117, 254),\n",
    "    'brown': rgbToFloat(180, 103, 77),\n",
    "    'orange': rgbToFloat(255, 117, 56),\n",
    "    'green': rgbToFloat(28, 172, 20),\n",
    "    'violet': rgbToFloat(146, 110, 174),\n",
    "    'black': rgbToFloat(35, 35, 35),\n",
    "\n",
    "    # Additional for 16-count box\n",
    "    'red-violet': rgbToFloat(192, 68, 143),\n",
    "    'red-orange': rgbToFloat(255, 117, 56),\n",
    "    'yellow-green': rgbToFloat(197, 227, 132),\n",
    "    'blue-violet': rgbToFloat(115, 102, 189),\n",
    "    'carnation-pink': rgbToFloat(255, 170, 204),\n",
    "    'yellow-orange': rgbToFloat(255, 182, 83),\n",
    "    'blue-green': rgbToFloat(25, 158, 189),\n",
    "    'white': rgbToFloat(237, 237, 237),\n",
    "\n",
    "    # Additional for 24-count box\n",
    "    'violet-red': rgbToFloat(247, 83 ,148),\n",
    "    'apricot': rgbToFloat(253, 217, 181),\n",
    "    'cerulean': rgbToFloat(29, 172, 214),\n",
    "    'indigo': rgbToFloat(93, 118, 203),\n",
    "    'scarlet': rgbToFloat(242, 40, 71),\n",
    "    'green-yellow': rgbToFloat(240, 232, 145),\n",
    "    'bluetiful': rgbToFloat(46, 80, 144),\n",
    "    'gray': rgbToFloat(149, 145, 140),\n",
    "    \n",
    "    # Additional for 32-count box\n",
    "    'chestnut': rgbToFloat(188, 93, 88),\n",
    "    'peach': rgbToFloat(255, 207, 171),\n",
    "    'sky-blue': rgbToFloat(128, 215, 235),\n",
    "    'cadet-blue': rgbToFloat(176, 183, 198),\n",
    "    'melon': rgbToFloat(253, 188, 180),\n",
    "    'tan': rgbToFloat(250, 167, 108),\n",
    "    'wisteria': rgbToFloat(205, 164, 222),\n",
    "    'timberwolf': rgbToFloat(219, 215, 210),\n",
    "\n",
    "    # Additional for 48-count box\n",
    "    'lavender': rgbToFloat(252, 180, 213),\n",
    "    'burnt-sienna': rgbToFloat(234, 126, 93),\n",
    "    'olive-green': rgbToFloat(186, 184, 108),\n",
    "    'purple-mountains-majesty': rgbToFloat(157, 129, 186),\n",
    "    'salmon': rgbToFloat(255, 155, 170),\n",
    "    'macaroni-and-cheese': rgbToFloat(255, 189, 136),\n",
    "    'granny-smith-apple': rgbToFloat(168, 228, 160),\n",
    "    'sepia': rgbToFloat(165, 105, 79),\n",
    "    'mauvelous': rgbToFloat(239, 152, 170),\n",
    "    'goldenrod': rgbToFloat(255, 217, 117),\n",
    "    'sea-green': rgbToFloat(159, 226, 191),\n",
    "    'raw-sienna': rgbToFloat(214, 138, 89),\n",
    "    'mahogany': rgbToFloat(205, 74, 74),\n",
    "    'spring-green': rgbToFloat(236, 234, 190),\n",
    "    'cornflower': rgbToFloat(154, 206, 235),\n",
    "    'tumbleweed': rgbToFloat(222, 170, 136),\n",
    "    \n",
    "    # Additional for 64-count box\n",
    "    'magenta': rgbToFloat(246, 100, 175),\n",
    "    'bittersweet': rgbToFloat(253, 124, 110),\n",
    "    'forest-green': rgbToFloat(109, 174, 129),\n",
    "    'periwinkle': rgbToFloat(197, 208, 230),\n",
    "    'wild-strawberry': rgbToFloat(255, 67, 164),\n",
    "    'burnt-orange': rgbToFloat(255, 127, 73),\n",
    "    'robin-egg-blue': rgbToFloat(31, 206, 203),\n",
    "    'orchid': rgbToFloat(230, 168, 215),\n",
    "    'tickle-me-pink': rgbToFloat(252, 137, 172),\n",
    "    'gold': rgbToFloat(231, 198, 151),\n",
    "    'turquoise-blue': rgbToFloat(119, 221, 231),\n",
    "    'plum': rgbToFloat(142, 69, 133),\n",
    "    'brick-red': rgbToFloat(203, 65, 84),\n",
    "    'asparagus': rgbToFloat(135, 169, 107),\n",
    "    'pacific-blue': rgbToFloat(28, 169, 201),\n",
    "    'silver': rgbToFloat(205, 197, 194),\n",
    "\n",
    "    # Additional for 96-count box\n",
    "    'fuchsia': rgbToFloat(195, 100, 197),\n",
    "    'maroon': rgbToFloat(200, 56, 90),\n",
    "    'neon-carrot': rgbToFloat(255, 163, 67),\n",
    "    'jungle-green': rgbToFloat(59, 176, 143),\n",
    "    'shocking-pink': rgbToFloat(251, 126, 253),\n",
    "    'radical-red': rgbToFloat(255, 73, 107),\n",
    "    'sunglow': rgbToFloat(255, 207, 72),\n",
    "    'tropical-rain-forest': rgbToFloat(23, 128, 109),\n",
    "    'purple-pizzazz': rgbToFloat(255, 29, 206),\n",
    "    'wild-watermelon': rgbToFloat(252, 108, 133),\n",
    "    'laser-lemon': rgbToFloat(253, 252, 116),\n",
    "    'pine-green': rgbToFloat(21, 128, 120),\n",
    "    'hot-magenta': rgbToFloat(255, 29, 206),\n",
    "    'vivid-tangerine': rgbToFloat(255, 160, 137),\n",
    "    'unmellow-yellow': rgbToFloat(253, 252, 116),\n",
    "    'navy-blue': rgbToFloat(25, 116, 210),\n",
    "    'razzle-dazzle-rose': rgbToFloat(255, 72, 208),\n",
    "    'copper': rgbToFloat(221, 148, 117),\n",
    "    'inchworm': rgbToFloat(178, 236, 93),\n",
    "    'denim': rgbToFloat(43, 108, 196),\n",
    "    'cerise': rgbToFloat(221, 68, 146),\n",
    "    'atomic-tangerine': rgbToFloat(255, 164, 116),\n",
    "    'screamin-green': rgbToFloat(118, 255, 122),\n",
    "    'midnight-blue': rgbToFloat(26, 72, 118),\n",
    "    'jazzberry-jam': rgbToFloat(202, 55, 103),\n",
    "    'outrageous-orange': rgbToFloat(255, 110, 74),\n",
    "    'electric-lime': rgbToFloat(29, 249, 20),\n",
    "    'wild-blue-wonder': rgbToFloat(162, 173, 208),\n",
    "    'razzmatazz': rgbToFloat(227, 37, 107),\n",
    "    'mango-tango': rgbToFloat(255, 130, 67),\n",
    "    'shamrock': rgbToFloat(69, 206, 162),\n",
    "    'royal-purple': rgbToFloat(120, 81, 169),\n",
    "}\n",
    "\n",
    "(rgbValues, colorNames) = createMoreTrainingData(colorMap)\n",
    "(colorModel, colorLabels) = train(rgbValues, colorNames)"
   ]
  },
  {
   "cell_type": "markdown",
   "metadata": {},
   "source": [
    "On my machine I got a scoring result from test data that had lower loss than the training steps. Not bad. Also note that as our colors go up, the number of perturbed data values goes up, 140K for the training data and 35K for the test data. Good thing we increased the batch size to 16!\n",
    "\n",
    "0.3 loss is not that great, but you can play with the epochs and batch size and perceptron count below to see how much better you can do.\n",
    "\n",
    "Try out the network against the color slider."
   ]
  },
  {
   "cell_type": "code",
   "execution_count": 3,
   "metadata": {
    "scrolled": true
   },
   "outputs": [
    {
     "data": {
      "application/vnd.jupyter.widget-view+json": {
       "model_id": "46ee5b48f1064a8480fa31153f0fa586",
       "version_major": 2,
       "version_minor": 0
      },
      "text/plain": [
       "interactive(children=(FloatSlider(value=0.5, description='r', max=1.0, step=0.01), FloatSlider(value=0.5, desc…"
      ]
     },
     "metadata": {},
     "output_type": "display_data"
    }
   ],
   "source": [
    "from ipywidgets import interact\n",
    "from IPython.core.display import display, HTML\n",
    "\n",
    "def displayColor(r, g, b):\n",
    "    rInt = min(255, max(0, int(r * 255.0)))\n",
    "    gInt = min(255, max(0, int(g * 255.0)))\n",
    "    bInt = min(255, max(0, int(b * 255.0)))\n",
    "    hexColor = \"#%02X%02X%02X\" % (rInt, gInt, bInt)\n",
    "    display(HTML('<div style=\"width: 50%; height: 50px; background: ' + hexColor + ';\"></div>'))\n",
    "\n",
    "numPredictionsToShow = 5\n",
    "@interact(r = (0.0, 1.0, 0.01), g = (0.0, 1.0, 0.01), b = (0.0, 1.0, 0.01))\n",
    "def getTopPredictionsFromModel(r, g, b):\n",
    "    testColor = numpy.array([ (r, g, b) ])\n",
    "    predictions = colorModel.predict(testColor, verbose=0)  # Predictions shape (1, numColors)\n",
    "    predictions *= 100.0\n",
    "    predColorTuples = []\n",
    "    for i in range(0, len(colorLabels)):\n",
    "        predColorTuples.append((predictions[0][i], colorLabels[i]))\n",
    "    predAndNames = numpy.array(predColorTuples, dtype=[('pred', float), ('colorName', 'U50')])\n",
    "    sorted = numpy.sort(predAndNames, order=['pred', 'colorName'])\n",
    "    sorted = sorted[::-1]  # reverse rows to get highest on top\n",
    "    for i in range(0, numPredictionsToShow):\n",
    "        print(\"%2.1f\" % sorted[i][0] + \"%\", sorted[i][1])\n",
    "    displayColor(r, g, b)"
   ]
  },
  {
   "cell_type": "markdown",
   "metadata": {},
   "source": [
    "Even with only 3 epochs I'm finding the predictions rather good. See if you agree.\n",
    "\n",
    "Here's the hyperparameter slider version so you can try out different epochs, batch sizes, and perceptrons:"
   ]
  },
  {
   "cell_type": "code",
   "execution_count": 4,
   "metadata": {},
   "outputs": [
    {
     "data": {
      "application/vnd.jupyter.widget-view+json": {
       "model_id": "d413442488a94609aeeeff5cd03a6c0b",
       "version_major": 2,
       "version_minor": 0
      },
      "text/plain": [
       "interactive(children=(IntSlider(value=5, description='epochs', max=10, min=1), IntSlider(value=5, description=…"
      ]
     },
     "metadata": {},
     "output_type": "display_data"
    }
   ],
   "source": [
    "@interact(epochs = (1, 10), perceptronsPerColorName = (1, 12), batchSize = (1, 50))\n",
    "def trainModel(epochs=5, perceptronsPerColorName=5, batchSize=8):\n",
    "    global colorModel\n",
    "    global colorLabels\n",
    "    (colorModel, colorLabels) = train(rgbValues, colorNames, epochs=epochs, perceptronsPerColorName=perceptronsPerColorName, batchSize=batchSize)"
   ]
  },
  {
   "cell_type": "code",
   "execution_count": 5,
   "metadata": {},
   "outputs": [
    {
     "data": {
      "application/vnd.jupyter.widget-view+json": {
       "model_id": "2b2952a7a2d547f1a222d1acc76fb140",
       "version_major": 2,
       "version_minor": 0
      },
      "text/plain": [
       "interactive(children=(FloatSlider(value=0.5, description='r', max=1.0, step=0.01), FloatSlider(value=0.5, desc…"
      ]
     },
     "metadata": {},
     "output_type": "display_data"
    },
    {
     "data": {
      "text/plain": [
       "<function __main__.getTopPredictionsFromModel(r, g, b)>"
      ]
     },
     "execution_count": 5,
     "metadata": {},
     "output_type": "execute_result"
    }
   ],
   "source": [
    "interact(getTopPredictionsFromModel, r = (0.0, 1.0, 0.01), g = (0.0, 1.0, 0.01), b = (0.0, 1.0, 0.01))"
   ]
  },
  {
   "cell_type": "markdown",
   "metadata": {
    "slideshow": {
     "slide_type": "subslide"
    }
   },
   "source": [
    "### Coming up...\n",
    "We'll try to get an understanding for the idea of *backpropagation*, which is how the network training works to increase the accuracy and reduce the loss, at least if the network can learn properly."
   ]
  },
  {
   "cell_type": "code",
   "execution_count": null,
   "metadata": {},
   "outputs": [],
   "source": []
  }
 ],
 "metadata": {
  "kernelspec": {
   "display_name": "Python 3",
   "language": "python",
   "name": "python3"
  },
  "language_info": {
   "codemirror_mode": {
    "name": "ipython",
    "version": 3
   },
   "file_extension": ".py",
   "mimetype": "text/x-python",
   "name": "python",
   "nbconvert_exporter": "python",
   "pygments_lexer": "ipython3",
   "version": "3.6.7"
  }
 },
 "nbformat": 4,
 "nbformat_minor": 2
}
