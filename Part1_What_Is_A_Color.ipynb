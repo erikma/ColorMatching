{
  "cells": [
    {
      "metadata": {
        "collapsed": true
      },
      "cell_type": "markdown",
      "source": "# Part 1: What is a Color?\nBefore we get started, we actually need to learn about how we tell computers what a color is. This turns out to be really important for all types of computer programming, as everything from designing games to creating web pages need to describe color to the computer.\n\nThere are several ways that computers can be given information about color, but the most common, and the one used by web pages and most games, is to use numbers describing how bright the red, green, and blue parts of the color are. We call this an \"RGB triple\" or \"RGB.\" The LED screen on your monitor or laptop or tablet or phone shines each dot by turning on varying parts of red, green, and blue, exactly the same way.\n\nBut then we get into a problem of how to express a number to the computer! There are several ways of doing this too, so when you deal with web pages or code or machine learning here are several equivalent ways of expressing a color.\n\n## Percentages\nYou could say that white is 100% red, 100% green, and 100% blue, all at once. Similarly, black is 0% red, 0% green, and 0% blue all at once. Putting those into an RGB triple you could express these as:\n\n white: `(100%, 100%, 100%)`<br>\n black: `(0%, 0%, 0%)`\n \n \n## Integers\nOne very common way of telling the computer about a color is to use a number from 0 through 255. Computers like powers of two far more than percentages when it can get them. So for instance, 100% red would be the value 255, while 50% red would be 127 or 128, and 0% red would be 0.\n\n white: `(255, 255, 255)`<br>\n black: `(0, 0, 0)`\n \n \n## Decimals\nAnd then there's the best way if you're dealing with floating point numbers and math, where you say how much red or green or blue there is by using a number from 0.0 through 1.0. 0.0 is equivalent to 0%, and 1.0 is 100%, so it's pretty easy to convert back and forth.\n\n white: `(1.0, 1.0, 1.0)`<br>\n black: `(0.0, 0.0, 0.0)`\n \nAs it happens, machine learning code likes to use this format. ML does a lot of math using floating point so it just fits.\n \n## More Color Examples\nLet's review a few more common colors just to make sure we're on the same page.\n\nIf 100% red, 100% green, and 100% blue are white, what about `(0.5, 0.5, 0.5)`? That's a nice medium shade of gray.\n\nWhat if you just have one of the colors?\n\n `(1.0, 0.0, 0.0)` = red<br>\n `(0.0, 1.0, 0.0)` = green<br>\n `(0.0, 0.0, 1.0)` = blue\n\nOK, what if you mix them by pairs?\n\n `(1.0, 1.0, 0.0)` = yellow = red and green mixed<br>\n `(0.0, 1.0, 1.0)` = cyan = green and blue mixed<br>\n `(1.0, 0.0, 1.0)` = magenta = red and blue mixed\n \n## Color Mixer\nTry your own floating point based color scheme below using the sliders.\n"
    },
    {
      "metadata": {
        "trusted": true
      },
      "cell_type": "code",
      "source": "from IPython.core.display import display, HTML\nfrom ipywidgets import interact\n@interact(r = (0.0, 1.0, 0.01), g = (0.0, 1.0, 0.01), b = (0.0, 1.0, 0.01))\ndef displayColor(r, g, b):\n    rInt = min(255, max(0, int(r * 255.0)))\n    gInt = min(255, max(0, int(g * 255.0)))\n    bInt = min(255, max(0, int(b * 255.0)))\n    hexColor = \"#%02X%02X%02X\" % (rInt, gInt, bInt)\n    display(HTML('<div style=\"width: 50%; height: 50px; background: ' + hexColor + ';\"></div>'))",
      "execution_count": null,
      "outputs": []
    },
    {
      "metadata": {
        "trusted": true
      },
      "cell_type": "code",
      "source": "",
      "execution_count": null,
      "outputs": []
    }
  ],
  "metadata": {
    "kernelspec": {
      "name": "python36",
      "display_name": "Python 3.6",
      "language": "python"
    },
    "language_info": {
      "mimetype": "text/ x - python",
      "nbconvert_exporter": "python",
      "version": "3.6.0",
      "name": "python",
      "file_extension": ".py",
      "pygments_lexer": "ipython2",
      "codemirror_mode": {
        "version": 2,
        "name": "ipython"
      }
    }
  },
  "nbformat": 4,
  "nbformat_minor": 2
}