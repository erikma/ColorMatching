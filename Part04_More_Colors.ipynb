{
 "cells": [
  {
   "cell_type": "markdown",
   "metadata": {},
   "source": [
    "# Part 4: More Colors\n",
    "So we have a neural network that can, with a lot of repetition in the form of a high epoch count, get pretty good at figuring out three colors. Let's give it a much larger list of colors and see what happens. First we'll simply copy the network from the previous part. Click Run to create the train() function."
   ]
  },
  {
   "cell_type": "code",
   "execution_count": 1,
   "metadata": {},
   "outputs": [
    {
     "name": "stderr",
     "output_type": "stream",
     "text": [
      "Using TensorFlow backend.\n"
     ]
    }
   ],
   "source": [
    "from keras.layers import Activation, Dense, Dropout\n",
    "from keras.models import Sequential\n",
    "import keras.optimizers, keras.utils, numpy\n",
    "from sklearn.model_selection import train_test_split\n",
    "from sklearn.preprocessing import LabelBinarizer\n",
    "\n",
    "def train(colorNameToRGBMap, epochs = 16):\n",
    "    \"\"\"\n",
    "    Trains a neural network to understand how to map color names to RGB triples.\n",
    "    The provided map is from 'color-name':(r,g,b) where r,g,b are floats in the range [0,1].\n",
    "    Different names are allowed to map to the same RGB triple.\n",
    "    Returns a trained model that can be used for recognize().\n",
    "    \"\"\"\n",
    "\n",
    "    # Convert the Python map RGB values into a numpy array needed for training.\n",
    "    rgbNumpyArray = numpy.array(list(colorNameToRGBMap.values()), numpy.float)\n",
    "    \n",
    "    # Convert the color labels into a one-hot feature array.\n",
    "    # Text labels for each array position are in the classes_ list on the binarizer.\n",
    "    labelBinarizer = LabelBinarizer()\n",
    "    oneHotLabels = labelBinarizer.fit_transform(list(colorNameToRGBMap.keys()))\n",
    "    numColors = len(labelBinarizer.classes_)\n",
    "    colorLabels = labelBinarizer.classes_\n",
    "    \n",
    "    # Hyperparameters to define the network shape.\n",
    "    numFullyConnectedPerceptrons = numColors * 16\n",
    "    batchSize = 1\n",
    "    \n",
    "    model = Sequential([\n",
    "        # Layer 1: Fully connected layer with ReLU activation.\n",
    "        Dense(numFullyConnectedPerceptrons, activation='relu', kernel_initializer='TruncatedNormal', input_shape=(3,)),\n",
    "\n",
    "        # Outputs: SoftMax activation to get probabilities by color.\n",
    "        Dense(numColors, activation='softmax')\n",
    "    ])\n",
    "\n",
    "    print(model.summary())\n",
    "\n",
    "    # Compile for categorization.\n",
    "    model.compile(\n",
    "        optimizer = keras.optimizers.SGD(lr = 0.01, momentum = 0.9, decay = 1e-6, nesterov = True),\n",
    "        loss = 'categorical_crossentropy',\n",
    "        metrics = [ 'accuracy' ])\n",
    "\n",
    "    history = model.fit(rgbNumpyArray, oneHotLabels, epochs=epochs, batch_size=batchSize)\n",
    "\n",
    "    return (model, colorLabels)"
   ]
  },
  {
   "cell_type": "markdown",
   "metadata": {},
   "source": [
    "OK, now we have the train() function, let's train it with a much longer list of colors this time. Click Run."
   ]
  },
  {
   "cell_type": "code",
   "execution_count": 2,
   "metadata": {},
   "outputs": [
    {
     "name": "stdout",
     "output_type": "stream",
     "text": [
      "WARNING:tensorflow:From c:\\users\\erik\\appdata\\local\\programs\\python\\python36\\lib\\site-packages\\tensorflow\\python\\framework\\op_def_library.py:263: colocate_with (from tensorflow.python.framework.ops) is deprecated and will be removed in a future version.\n",
      "Instructions for updating:\n",
      "Colocations handled automatically by placer.\n",
      "_________________________________________________________________\n",
      "Layer (type)                 Output Shape              Param #   \n",
      "=================================================================\n",
      "dense_1 (Dense)              (None, 176)               704       \n",
      "_________________________________________________________________\n",
      "dense_2 (Dense)              (None, 11)                1947      \n",
      "=================================================================\n",
      "Total params: 2,651\n",
      "Trainable params: 2,651\n",
      "Non-trainable params: 0\n",
      "_________________________________________________________________\n",
      "None\n",
      "WARNING:tensorflow:From c:\\users\\erik\\appdata\\local\\programs\\python\\python36\\lib\\site-packages\\tensorflow\\python\\ops\\math_ops.py:3066: to_int32 (from tensorflow.python.ops.math_ops) is deprecated and will be removed in a future version.\n",
      "Instructions for updating:\n",
      "Use tf.cast instead.\n",
      "Epoch 1/16\n",
      "11/11 [==============================] - 0s 29ms/step - loss: 2.4430 - acc: 0.0000e+00\n",
      "Epoch 2/16\n",
      "11/11 [==============================] - 0s 3ms/step - loss: 2.3938 - acc: 0.0000e+00\n",
      "Epoch 3/16\n",
      "11/11 [==============================] - 0s 4ms/step - loss: 2.3250 - acc: 0.1818\n",
      "Epoch 4/16\n",
      "11/11 [==============================] - 0s 2ms/step - loss: 2.2779 - acc: 0.3636\n",
      "Epoch 5/16\n",
      "11/11 [==============================] - 0s 3ms/step - loss: 2.2074 - acc: 0.1818\n",
      "Epoch 6/16\n",
      "11/11 [==============================] - 0s 4ms/step - loss: 2.1368 - acc: 0.4545\n",
      "Epoch 7/16\n",
      "11/11 [==============================] - 0s 3ms/step - loss: 2.0665 - acc: 0.5455\n",
      "Epoch 8/16\n",
      "11/11 [==============================] - 0s 3ms/step - loss: 2.0067 - acc: 0.6364\n",
      "Epoch 9/16\n",
      "11/11 [==============================] - 0s 3ms/step - loss: 1.8943 - acc: 0.7273\n",
      "Epoch 10/16\n",
      "11/11 [==============================] - 0s 3ms/step - loss: 1.8132 - acc: 0.7273\n",
      "Epoch 11/16\n",
      "11/11 [==============================] - 0s 5ms/step - loss: 1.7033 - acc: 0.7273\n",
      "Epoch 12/16\n",
      "11/11 [==============================] - 0s 3ms/step - loss: 1.5996 - acc: 0.6364\n",
      "Epoch 13/16\n",
      "11/11 [==============================] - 0s 4ms/step - loss: 1.4970 - acc: 0.7273\n",
      "Epoch 14/16\n",
      "11/11 [==============================] - 0s 5ms/step - loss: 1.3852 - acc: 0.6364\n",
      "Epoch 15/16\n",
      "11/11 [==============================] - 0s 2ms/step - loss: 1.3167 - acc: 0.7273\n",
      "Epoch 16/16\n",
      "11/11 [==============================] - 0s 2ms/step - loss: 1.2375 - acc: 0.7273\n"
     ]
    }
   ],
   "source": [
    "colorMap = {\n",
    "    'red': (1.0, 0.0, 0.0),\n",
    "    'green': (0.0, 1.0, 0.0),\n",
    "    'blue': (0.0, 0.0, 1.0),\n",
    "    'yellow': (1.0, 1.0, 0.0),\n",
    "    'cyan': (0.0, 1.0, 1.0),\n",
    "    'gray': (0.5, 0.5, 0.5),\n",
    "    'black': (0.0, 0.0, 0.0),\n",
    "    'white': (1.0, 1.0, 1.0),\n",
    "    'magenta': (1.0, 0.0, 1.0),\n",
    "    'purple': (0.5, 0.0, 1.0),\n",
    "    'indigo': (0.25, 0.0, 1.0)\n",
    "}\n",
    "\n",
    "(colorModel, colorLabels) = train(colorMap)"
   ]
  },
  {
   "cell_type": "markdown",
   "metadata": {},
   "source": [
    "Check out the loss values! With 3 colors we started at about 1.1 and got down to 0.8 after 16 epochs. But with more colors we started with a loss of about 2.4 and got only down to 1.2. The network is having trouble learning even with 16 repetitions.\n",
    "\n",
    "Let's check out what the color sliders say this time."
   ]
  },
  {
   "cell_type": "code",
   "execution_count": 3,
   "metadata": {
    "scrolled": true
   },
   "outputs": [
    {
     "data": {
      "application/vnd.jupyter.widget-view+json": {
       "model_id": "dfe74a89c92a4a5ebe3f9419521a904c",
       "version_major": 2,
       "version_minor": 0
      },
      "text/plain": [
       "interactive(children=(FloatSlider(value=0.5, description='r', max=1.0, step=0.01), FloatSlider(value=0.5, desc…"
      ]
     },
     "metadata": {},
     "output_type": "display_data"
    }
   ],
   "source": [
    "from IPython.core.display import display, HTML\n",
    "from ipywidgets import interact\n",
    "def displayColor(r, g, b):\n",
    "    rInt = min(255, max(0, int(r * 255.0)))\n",
    "    gInt = min(255, max(0, int(g * 255.0)))\n",
    "    bInt = min(255, max(0, int(b * 255.0)))\n",
    "    hexColor = \"#%02X%02X%02X\" % (rInt, gInt, bInt)\n",
    "    display(HTML('<div style=\"width: 50%; height: 50px; background: ' + hexColor + ';\"></div>'))\n",
    "\n",
    "@interact(r = (0.0, 1.0, 0.01), g = (0.0, 1.0, 0.01), b = (0.0, 1.0, 0.01))\n",
    "def getPredictionsFromModel(r, g, b):\n",
    "    testColor = numpy.array([ (r, g, b) ])\n",
    "    predictions = colorModel.predict(testColor, verbose=0)  # Predictions shape (1, numColors)\n",
    "    predictions *= 100.0\n",
    "    print(colorLabels)\n",
    "    numpy.set_printoptions(precision=1, suppress=True)\n",
    "    print(predictions[0])\n",
    "    displayColor(r, g, b)\n"
   ]
  },
  {
   "cell_type": "markdown",
   "metadata": {},
   "source": [
    "On my machine the prediction for gray is only 15%, which is quite bad, and in fact it predicts white at 18% which means it's really not trained well at all. Here's the epoch slider again, allowing up to 500 epochs which will take quite awhile. Try different values and see what you get for the loss values and the resulting prediction accuracy."
   ]
  },
  {
   "cell_type": "code",
   "execution_count": 4,
   "metadata": {},
   "outputs": [
    {
     "data": {
      "application/vnd.jupyter.widget-view+json": {
       "model_id": "5ef8386846f843d1977ba11ec80e96e7",
       "version_major": 2,
       "version_minor": 0
      },
      "text/plain": [
       "interactive(children=(IntSlider(value=10, description='epochs', max=500, min=1), Output()), _dom_classes=('wid…"
      ]
     },
     "metadata": {},
     "output_type": "display_data"
    }
   ],
   "source": [
    "@interact(epochs = (1, 500))\n",
    "def trainModel(epochs=10):\n",
    "    global colorModel\n",
    "    global colorLabels\n",
    "    (colorModel, colorLabels) = train(colorMap, epochs=epochs)\n"
   ]
  },
  {
   "cell_type": "code",
   "execution_count": 5,
   "metadata": {},
   "outputs": [
    {
     "data": {
      "application/vnd.jupyter.widget-view+json": {
       "model_id": "323c1efaafa2452b80855704c8879dfb",
       "version_major": 2,
       "version_minor": 0
      },
      "text/plain": [
       "interactive(children=(FloatSlider(value=0.5, description='r', max=1.0, step=0.01), FloatSlider(value=0.5, desc…"
      ]
     },
     "metadata": {},
     "output_type": "display_data"
    },
    {
     "data": {
      "text/plain": [
       "<function __main__.getPredictionsFromModel(r, g, b)>"
      ]
     },
     "execution_count": 5,
     "metadata": {},
     "output_type": "execute_result"
    }
   ],
   "source": [
    "interact(getPredictionsFromModel, r = (0.0, 1.0, 0.01), g = (0.0, 1.0, 0.01), b = (0.0, 1.0, 0.01))"
   ]
  },
  {
   "cell_type": "markdown",
   "metadata": {},
   "source": [
    "When I set it to 400 epochs my loss got to around 0.01, at which point the predictions started to get rather good, with the initial gray at 98% and in-between colors coming out well.\n",
    "\n",
    "### Coming up...\n",
    "Let's give the network a rather long list of colors to see whether it can handle it."
   ]
  },
  {
   "cell_type": "code",
   "execution_count": null,
   "metadata": {},
   "outputs": [],
   "source": []
  }
 ],
 "metadata": {
  "kernelspec": {
   "display_name": "Python 3",
   "language": "python",
   "name": "python3"
  },
  "language_info": {
   "codemirror_mode": {
    "name": "ipython",
    "version": 3
   },
   "file_extension": ".py",
   "mimetype": "text/x-python",
   "name": "python",
   "nbconvert_exporter": "python",
   "pygments_lexer": "ipython3",
   "version": "3.6.7"
  }
 },
 "nbformat": 4,
 "nbformat_minor": 2
}
