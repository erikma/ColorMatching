{
 "cells": [
  {
   "cell_type": "markdown",
   "metadata": {},
   "source": [
    "# Part 5: A Crayola Box Full of Colors\n",
    "To recap, at 400 epochs we had 11 colors training to a pretty good loss of 0.01, and the neural network was predicting rather well when using the color sliders. Let's add a 24-color list to see what happens.\n",
    "\n",
    "First we'll simply copy the network from the previous part. Click Run to create the train() function."
   ]
  },
  {
   "cell_type": "code",
   "execution_count": 1,
   "metadata": {},
   "outputs": [
    {
     "name": "stderr",
     "output_type": "stream",
     "text": [
      "Using TensorFlow backend.\n"
     ]
    }
   ],
   "source": [
    "from keras.layers import Activation, Dense, Dropout\n",
    "from keras.models import Sequential\n",
    "import keras.optimizers, keras.utils, numpy\n",
    "from sklearn.model_selection import train_test_split\n",
    "from sklearn.preprocessing import LabelBinarizer\n",
    "\n",
    "def train(colorNameToRGBMap, epochs = 16):\n",
    "    \"\"\"\n",
    "    Trains a neural network to understand how to map color names to RGB triples.\n",
    "    The provided map is from 'color-name':(r,g,b) where r,g,b are floats in the range [0,1].\n",
    "    Different names are allowed to map to the same RGB triple.\n",
    "    Returns a trained model that can be used for recognize().\n",
    "    \"\"\"\n",
    "\n",
    "    # Convert the Python map RGB values into a numpy array needed for training.\n",
    "    rgbNumpyArray = numpy.array(list(colorNameToRGBMap.values()), numpy.float)\n",
    "    \n",
    "    # Convert the color labels into a one-hot feature array.\n",
    "    # Text labels for each array position are in the classes_ list on the binarizer.\n",
    "    labelBinarizer = LabelBinarizer()\n",
    "    oneHotLabels = labelBinarizer.fit_transform(list(colorNameToRGBMap.keys()))\n",
    "    numColors = len(labelBinarizer.classes_)\n",
    "    colorLabels = labelBinarizer.classes_\n",
    "    \n",
    "    # Hyperparameters to define the network shape.\n",
    "    numFullyConnectedPerceptrons = numColors * 16\n",
    "    batchSize = 1\n",
    "    \n",
    "    model = Sequential([\n",
    "        # Layer 1: Fully connected layer with ReLU activation.\n",
    "        Dense(numFullyConnectedPerceptrons, activation='relu', kernel_initializer='TruncatedNormal', input_shape=(3,)),\n",
    "\n",
    "        # Outputs: SoftMax activation to get probabilities by color.\n",
    "        Dense(numColors, activation='softmax')\n",
    "    ])\n",
    "\n",
    "    print(model.summary())\n",
    "\n",
    "    # Compile for categorization.\n",
    "    model.compile(\n",
    "        optimizer = keras.optimizers.SGD(lr = 0.01, momentum = 0.9, decay = 1e-6, nesterov = True),\n",
    "        loss = 'categorical_crossentropy',\n",
    "        metrics = [ 'accuracy' ])\n",
    "\n",
    "    history = model.fit(rgbNumpyArray, oneHotLabels, epochs=epochs, batch_size=batchSize)\n",
    "\n",
    "    return (model, colorLabels)"
   ]
  },
  {
   "cell_type": "markdown",
   "metadata": {},
   "source": [
    "Let's consult the Internet to find a good list of colors matching a Crayola box. I found one great site [here](http://www.jennyscrayoncollection.com/2017/10/complete-list-of-current-crayola-crayon.html). Jenny lists the colors with 0-255 and hex color codes. To help translate that to floating point triples, let's create a small helper function to translate from 0-255 RGB to our floating point numbers, then create our map using that function and the colors in the 24-crayon box."
   ]
  },
  {
   "cell_type": "code",
   "execution_count": 2,
   "metadata": {},
   "outputs": [
    {
     "name": "stdout",
     "output_type": "stream",
     "text": [
      "WARNING:tensorflow:From c:\\users\\erik\\appdata\\local\\programs\\python\\python36\\lib\\site-packages\\tensorflow\\python\\framework\\op_def_library.py:263: colocate_with (from tensorflow.python.framework.ops) is deprecated and will be removed in a future version.\n",
      "Instructions for updating:\n",
      "Colocations handled automatically by placer.\n",
      "_________________________________________________________________\n",
      "Layer (type)                 Output Shape              Param #   \n",
      "=================================================================\n",
      "dense_1 (Dense)              (None, 384)               1536      \n",
      "_________________________________________________________________\n",
      "dense_2 (Dense)              (None, 24)                9240      \n",
      "=================================================================\n",
      "Total params: 10,776\n",
      "Trainable params: 10,776\n",
      "Non-trainable params: 0\n",
      "_________________________________________________________________\n",
      "None\n",
      "WARNING:tensorflow:From c:\\users\\erik\\appdata\\local\\programs\\python\\python36\\lib\\site-packages\\tensorflow\\python\\ops\\math_ops.py:3066: to_int32 (from tensorflow.python.ops.math_ops) is deprecated and will be removed in a future version.\n",
      "Instructions for updating:\n",
      "Use tf.cast instead.\n",
      "Epoch 1/16\n",
      "24/24 [==============================] - 0s 12ms/step - loss: 3.2501 - acc: 0.0000e+00\n",
      "Epoch 2/16\n",
      "24/24 [==============================] - 0s 2ms/step - loss: 3.2134 - acc: 0.0000e+00\n",
      "Epoch 3/16\n",
      "24/24 [==============================] - 0s 4ms/step - loss: 3.1919 - acc: 0.0000e+00\n",
      "Epoch 4/16\n",
      "24/24 [==============================] - 0s 4ms/step - loss: 3.1633 - acc: 0.0417\n",
      "Epoch 5/16\n",
      "24/24 [==============================] - 0s 3ms/step - loss: 3.1436 - acc: 0.0417\n",
      "Epoch 6/16\n",
      "24/24 [==============================] - 0s 3ms/step - loss: 3.1116 - acc: 0.0000e+00\n",
      "Epoch 7/16\n",
      "24/24 [==============================] - 0s 6ms/step - loss: 3.0728 - acc: 0.0833\n",
      "Epoch 8/16\n",
      "24/24 [==============================] - 0s 3ms/step - loss: 3.0516 - acc: 0.1250\n",
      "Epoch 9/16\n",
      "24/24 [==============================] - 0s 4ms/step - loss: 3.0009 - acc: 0.1667\n",
      "Epoch 10/16\n",
      "24/24 [==============================] - 0s 3ms/step - loss: 2.9662 - acc: 0.0833\n",
      "Epoch 11/16\n",
      "24/24 [==============================] - 0s 5ms/step - loss: 2.9097 - acc: 0.1667\n",
      "Epoch 12/16\n",
      "24/24 [==============================] - 0s 4ms/step - loss: 2.8745 - acc: 0.1250\n",
      "Epoch 13/16\n",
      "24/24 [==============================] - 0s 4ms/step - loss: 2.7951 - acc: 0.0833\n",
      "Epoch 14/16\n",
      "24/24 [==============================] - 0s 3ms/step - loss: 2.7459 - acc: 0.0833\n",
      "Epoch 15/16\n",
      "24/24 [==============================] - 0s 5ms/step - loss: 2.7002 - acc: 0.0833\n",
      "Epoch 16/16\n",
      "24/24 [==============================] - 0s 4ms/step - loss: 2.6313 - acc: 0.1667\n"
     ]
    }
   ],
   "source": [
    "def rgbToFloat(r, g, b):  # r, g, b in 0-255 range\n",
    "    return (float(r) / 255.0, float(g) / 255.0, float(b) / 255.0)\n",
    "\n",
    "colorMap = {\n",
    "    # 8-crayon box colors\n",
    "    'red': rgbToFloat(238, 32, 77),\n",
    "    'yellow': rgbToFloat(252, 232, 131),\n",
    "    'blue': rgbToFloat(31, 117, 254),\n",
    "    'brown': rgbToFloat(180, 103, 77),\n",
    "    'orange': rgbToFloat(255, 117, 56),\n",
    "    'green': rgbToFloat(28, 172, 20),\n",
    "    'violet': rgbToFloat(146, 110, 174),\n",
    "    'black': rgbToFloat(35, 35, 35),\n",
    "\n",
    "    # Additional for 16-count box\n",
    "    'red-violet': rgbToFloat(192, 68, 143),\n",
    "    'red-orange': rgbToFloat(255, 117, 56),\n",
    "    'yellow-green': rgbToFloat(197, 227, 132),\n",
    "    'blue-violet': rgbToFloat(115, 102, 189),\n",
    "    'carnation-pink': rgbToFloat(255, 170, 204),\n",
    "    'yellow-orange': rgbToFloat(255, 182, 83),\n",
    "    'blue-green': rgbToFloat(25, 158, 189),\n",
    "    'white': rgbToFloat(237, 237, 237),\n",
    "\n",
    "    # Additional for 24-count box\n",
    "    'violet-red': rgbToFloat(247, 83 ,148),\n",
    "    'apricot': rgbToFloat(253, 217, 181),\n",
    "    'cerulean': rgbToFloat(29, 172, 214),\n",
    "    'indigo': rgbToFloat(93, 118, 203),\n",
    "    'scarlet': rgbToFloat(242, 40, 71),\n",
    "    'green-yellow': rgbToFloat(240, 232, 145),\n",
    "    'bluetiful': rgbToFloat(46, 80, 144),\n",
    "    'gray': rgbToFloat(149, 145, 140),\n",
    "}\n",
    "\n",
    "(colorModel, colorLabels) = train(colorMap)"
   ]
  },
  {
   "cell_type": "markdown",
   "metadata": {},
   "source": [
    "Wow, our loss is even higher than the last round with 11 colors, starting at 3.2 and only getting down to 2.6. We're going to have to repeat ourselves a lot more by using a higher epoch count. The epoch slider is below, with a max of 1000 epochs this time. See if you can find where the loss gets down to 0.01."
   ]
  },
  {
   "cell_type": "code",
   "execution_count": 3,
   "metadata": {},
   "outputs": [
    {
     "data": {
      "application/vnd.jupyter.widget-view+json": {
       "model_id": "7978ccc8ee7e4a11878c7b7e91f335b7",
       "version_major": 2,
       "version_minor": 0
      },
      "text/plain": [
       "interactive(children=(IntSlider(value=100, description='epochs', max=1000, min=1), Output()), _dom_classes=('w…"
      ]
     },
     "metadata": {},
     "output_type": "display_data"
    }
   ],
   "source": [
    "from ipywidgets import interact\n",
    "@interact(epochs = (1, 1000))\n",
    "def trainModel(epochs=100):\n",
    "    global colorModel\n",
    "    global colorLabels\n",
    "    (colorModel, colorLabels) = train(colorMap, epochs=epochs)"
   ]
  },
  {
   "cell_type": "markdown",
   "metadata": {},
   "source": [
    "Did you see something strange? For me, at around 250 epochs the loss gets down to somewhere around 0.3, but then the loss starts bouncing around and not really going lower. In fact, sometimes it goes up! And it never gets any better; even at 1000 epochs it's still bouncing between 0.2 and 0.6.\n",
    "\n",
    "Our neural network is stuck. Our teaching repetition is just making it confused.\n",
    "\n",
    "Try training for 300 or so epochs, then try the color slider."
   ]
  },
  {
   "cell_type": "code",
   "execution_count": 4,
   "metadata": {
    "scrolled": true
   },
   "outputs": [
    {
     "data": {
      "application/vnd.jupyter.widget-view+json": {
       "model_id": "483504a66bb0470fbd1a80d144bff3d7",
       "version_major": 2,
       "version_minor": 0
      },
      "text/plain": [
       "interactive(children=(FloatSlider(value=0.5, description='r', max=1.0, step=0.01), FloatSlider(value=0.5, desc…"
      ]
     },
     "metadata": {},
     "output_type": "display_data"
    }
   ],
   "source": [
    "from IPython.core.display import display, HTML\n",
    "\n",
    "def displayColor(r, g, b):\n",
    "    rInt = min(255, max(0, int(r * 255.0)))\n",
    "    gInt = min(255, max(0, int(g * 255.0)))\n",
    "    bInt = min(255, max(0, int(b * 255.0)))\n",
    "    hexColor = \"#%02X%02X%02X\" % (rInt, gInt, bInt)\n",
    "    display(HTML('<div style=\"width: 50%; height: 50px; background: ' + hexColor + ';\"></div>'))\n",
    "\n",
    "@interact(r = (0.0, 1.0, 0.01), g = (0.0, 1.0, 0.01), b = (0.0, 1.0, 0.01))\n",
    "def getPredictionsFromModel(r, g, b):\n",
    "    testColor = numpy.array([ (r, g, b) ])\n",
    "    predictions = colorModel.predict(testColor, verbose=0)  # Predictions shape (1, numColors)\n",
    "    predictions *= 100.0\n",
    "    print(colorLabels)\n",
    "    numpy.set_printoptions(precision=1, suppress=True)\n",
    "    print(predictions[0])\n",
    "    displayColor(r, g, b)\n"
   ]
  },
  {
   "cell_type": "markdown",
   "metadata": {},
   "source": [
    "Are you having trouble seeing the best color match in that large list too? Let's fix it by sorting to show just the top 5 predictions."
   ]
  },
  {
   "cell_type": "code",
   "execution_count": 5,
   "metadata": {},
   "outputs": [
    {
     "data": {
      "application/vnd.jupyter.widget-view+json": {
       "model_id": "a922630fdcbd4f1c97a870795aef06f1",
       "version_major": 2,
       "version_minor": 0
      },
      "text/plain": [
       "interactive(children=(FloatSlider(value=0.5, description='r', max=1.0, step=0.01), FloatSlider(value=0.5, desc…"
      ]
     },
     "metadata": {},
     "output_type": "display_data"
    }
   ],
   "source": [
    "numPredictionsToShow = 5\n",
    "@interact(r = (0.0, 1.0, 0.01), g = (0.0, 1.0, 0.01), b = (0.0, 1.0, 0.01))\n",
    "def getTopPredictionsFromModel(r, g, b):\n",
    "    testColor = numpy.array([ (r, g, b) ])\n",
    "    predictions = colorModel.predict(testColor, verbose=0)  # Predictions shape (1, numColors)\n",
    "    predictions *= 100.0\n",
    "    predColorTuples = []\n",
    "    for i in range(0, len(colorLabels)):\n",
    "        predColorTuples.append((predictions[0][i], colorLabels[i]))\n",
    "    predAndNames = numpy.array(predColorTuples, dtype=[('pred', float), ('colorName', 'U50')])\n",
    "    sorted = numpy.sort(predAndNames, order=['pred', 'colorName'])\n",
    "    sorted = sorted[::-1]  # reverse rows to get highest on top\n",
    "    for i in range(0, numPredictionsToShow):\n",
    "        print(\"%2.1f\" % sorted[i][0] + \"%\", sorted[i][1])\n",
    "    displayColor(r, g, b)"
   ]
  },
  {
   "cell_type": "markdown",
   "metadata": {},
   "source": [
    "When I set it to about 500 epochs my loss was still pretty high, but the predictions when I moved the sliders were still pretty good, with the initial gray at 93% and in-between colors making sense.\n",
    "\n",
    "### Coming up...\n",
    "Can make the network need fewer epochs by using the color list to generate more colors?"
   ]
  }
 ],
 "metadata": {
  "kernelspec": {
   "display_name": "Python 3",
   "language": "python",
   "name": "python3"
  },
  "language_info": {
   "codemirror_mode": {
    "name": "ipython",
    "version": 3
   },
   "file_extension": ".py",
   "mimetype": "text/x-python",
   "name": "python",
   "nbconvert_exporter": "python",
   "pygments_lexer": "ipython3",
   "version": "3.6.7"
  }
 },
 "nbformat": 4,
 "nbformat_minor": 2
}
